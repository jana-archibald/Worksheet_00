{
 "cells": [
  {
   "cell_type": "markdown",
   "metadata": {
    "editable": false
   },
   "source": [
    "# Tutorial 0: Demo Jupyter Notebook #\n"
   ]
  },
  {
   "cell_type": "markdown",
   "metadata": {},
   "source": [
    "This is a markdown cell Hello"
   ]
  },
  {
   "cell_type": "code",
   "execution_count": 1,
   "metadata": {},
   "outputs": [
    {
     "data": {
      "text/html": [
       "64"
      ],
      "text/latex": [
       "64"
      ],
      "text/markdown": [
       "64"
      ],
      "text/plain": [
       "[1] 64"
      ]
     },
     "metadata": {},
     "output_type": "display_data"
    }
   ],
   "source": [
    "8*8"
   ]
  },
  {
   "cell_type": "markdown",
   "metadata": {
    "editable": false
   },
   "source": [
    "## Objectives: ##\n",
    "To learn the basics of using jupyter notebooks via videos using this demo jupyter notebook."
   ]
  },
  {
   "cell_type": "markdown",
   "metadata": {
    "editable": false
   },
   "source": [
    "## Instructions: ##\n",
    "Watch the videos."
   ]
  },
  {
   "cell_type": "markdown",
   "metadata": {
    "editable": false
   },
   "source": [
    "## Formulae: ##\n",
    "No formulae are needed for this exercise.\n",
    "\n",
    "For demo purposes here is what a couple of meaningless formulae:\n",
    "$$\\tau = \\sqrt{4^2 -7}$$\n",
    "$$\\xi = 4 \\pm \\sqrt{(10 + 5*8 - 6)/7}$$"
   ]
  },
  {
   "cell_type": "markdown",
   "metadata": {
    "editable": false
   },
   "source": [
    "## Tools: ##"
   ]
  },
  {
   "cell_type": "code",
   "execution_count": 2,
   "metadata": {},
   "outputs": [],
   "source": [
    "source(\"http://www.openintro.org/stat/data/arbuthnot.R\")"
   ]
  },
  {
   "cell_type": "markdown",
   "metadata": {},
   "source": [
    "## Data Information: ##\n",
    "\n",
    "### Data Set: ###\n",
    "\n",
    "During every one of the 81 years, there were more male christenings (births) than female christenings. \n",
    "\n",
    "#### Name: #### \n",
    "* `arbuthnot` - \n",
    "#### Variables: ####\n",
    "* `year` - The year, ranging from 1629 to 1710.\n",
    "* `boys` - Number of male christenings (births).\n",
    "* `girls` - Number of female christenings (births)."
   ]
  },
  {
   "cell_type": "markdown",
   "metadata": {
    "editable": false
   },
   "source": [
    "## Question 1. Markdown cells vs. Code cells ##"
   ]
  },
  {
   "cell_type": "markdown",
   "metadata": {
    "editable": false
   },
   "source": [
    "### a. Markdown Cells ###\n",
    "* A markdown cell is where you write about your answers.  \n",
    "* You can edit it by double clicking, or pressing enter.\n",
    "* You can make it look nice again by pressing shift + enter.\n",
    "* You can edit the text in this box by double clicking and typing.\n",
    "* NOTE: There are a variety of methods to make your text look nice, but for our purposes plain text is fine. **\n",
    "\n",
    "Try typing in the Markdown cell below the title Answer 1a."
   ]
  },
  {
   "cell_type": "markdown",
   "metadata": {
    "editable": false
   },
   "source": [
    "### Answer 1a. ##"
   ]
  },
  {
   "cell_type": "markdown",
   "metadata": {},
   "source": [
    "Type something here"
   ]
  },
  {
   "cell_type": "markdown",
   "metadata": {
    "editable": false
   },
   "source": [
    "\n",
    "### b. Code Cells  ###\n",
    "\n",
    "Below are three code cells.  \n",
    "\n",
    "Code cells are where we will use R to compute statistics or produce plots.  Or as I have done here do some simple arithmetic.\n",
    "\n",
    "You can double click on a code cell to edit it.\n",
    "\n",
    "Use shift + enter will run the code.\n",
    "\n",
    "You can add additional blocks below the current block by clicking on the `+` in the toolbar at the top of this window. Alternately, you can use the Insert menu to add blocks.\n",
    "\n",
    "* Run the code in the first two cells.\n",
    "* In the third code block use the `sqrt(` &lt;arithmetic statement&gt; `)` to find the value for $\\tau$ as shown in the Formulae section above.\n",
    "* Create a fourth code block then use the `sqrt(` &lt;arithmetic statement&gt; `)` to find the value for $\\xi$ as shown in the Formulae section above."
   ]
  },
  {
   "cell_type": "markdown",
   "metadata": {
    "editable": false
   },
   "source": [
    "### Answer 1b."
   ]
  },
  {
   "cell_type": "code",
   "execution_count": null,
   "metadata": {
    "editable": false
   },
   "outputs": [],
   "source": [
    "3+6/2"
   ]
  },
  {
   "cell_type": "code",
   "execution_count": null,
   "metadata": {
    "editable": false
   },
   "outputs": [],
   "source": [
    "(6-2)^3"
   ]
  },
  {
   "cell_type": "markdown",
   "metadata": {
    "editable": false
   },
   "source": [
    "## Question 2. Loading data ##"
   ]
  },
  {
   "cell_type": "markdown",
   "metadata": {
    "editable": false
   },
   "source": [
    "Under the tools section above are the commands to load data.\n",
    "\n",
    "* Load the data by running the code in the code block below the <b>Tools</b> section.\n",
    "* When you run the code block the data will be loaded. This is a background process, nothing will appear on the notebook.<br>You can think of it as the code being recorded on the back of the page.\n",
    "\n",
    "To see what data has been loaded enter the name of the data set in the code blocks below.\n"
   ]
  },
  {
   "cell_type": "markdown",
   "metadata": {
    "editable": false
   },
   "source": [
    "## Answer 2."
   ]
  },
  {
   "cell_type": "code",
   "execution_count": 3,
   "metadata": {},
   "outputs": [
    {
     "data": {
      "text/html": [
       "<table>\n",
       "<caption>A data.frame: 82 × 3</caption>\n",
       "<thead>\n",
       "\t<tr><th scope=col>year</th><th scope=col>boys</th><th scope=col>girls</th></tr>\n",
       "\t<tr><th scope=col>&lt;int&gt;</th><th scope=col>&lt;int&gt;</th><th scope=col>&lt;int&gt;</th></tr>\n",
       "</thead>\n",
       "<tbody>\n",
       "\t<tr><td>1629</td><td>5218</td><td>4683</td></tr>\n",
       "\t<tr><td>1630</td><td>4858</td><td>4457</td></tr>\n",
       "\t<tr><td>1631</td><td>4422</td><td>4102</td></tr>\n",
       "\t<tr><td>1632</td><td>4994</td><td>4590</td></tr>\n",
       "\t<tr><td>1633</td><td>5158</td><td>4839</td></tr>\n",
       "\t<tr><td>1634</td><td>5035</td><td>4820</td></tr>\n",
       "\t<tr><td>1635</td><td>5106</td><td>4928</td></tr>\n",
       "\t<tr><td>1636</td><td>4917</td><td>4605</td></tr>\n",
       "\t<tr><td>1637</td><td>4703</td><td>4457</td></tr>\n",
       "\t<tr><td>1638</td><td>5359</td><td>4952</td></tr>\n",
       "\t<tr><td>1639</td><td>5366</td><td>4784</td></tr>\n",
       "\t<tr><td>1640</td><td>5518</td><td>5332</td></tr>\n",
       "\t<tr><td>1641</td><td>5470</td><td>5200</td></tr>\n",
       "\t<tr><td>1642</td><td>5460</td><td>4910</td></tr>\n",
       "\t<tr><td>1643</td><td>4793</td><td>4617</td></tr>\n",
       "\t<tr><td>1644</td><td>4107</td><td>3997</td></tr>\n",
       "\t<tr><td>1645</td><td>4047</td><td>3919</td></tr>\n",
       "\t<tr><td>1646</td><td>3768</td><td>3395</td></tr>\n",
       "\t<tr><td>1647</td><td>3796</td><td>3536</td></tr>\n",
       "\t<tr><td>1648</td><td>3363</td><td>3181</td></tr>\n",
       "\t<tr><td>1649</td><td>3079</td><td>2746</td></tr>\n",
       "\t<tr><td>1650</td><td>2890</td><td>2722</td></tr>\n",
       "\t<tr><td>1651</td><td>3231</td><td>2840</td></tr>\n",
       "\t<tr><td>1652</td><td>3220</td><td>2908</td></tr>\n",
       "\t<tr><td>1653</td><td>3196</td><td>2959</td></tr>\n",
       "\t<tr><td>1654</td><td>3441</td><td>3179</td></tr>\n",
       "\t<tr><td>1655</td><td>3655</td><td>3349</td></tr>\n",
       "\t<tr><td>1656</td><td>3668</td><td>3382</td></tr>\n",
       "\t<tr><td>1657</td><td>3396</td><td>3289</td></tr>\n",
       "\t<tr><td>1658</td><td>3157</td><td>3013</td></tr>\n",
       "\t<tr><td>⋮</td><td>⋮</td><td>⋮</td></tr>\n",
       "\t<tr><td>1681</td><td>6822</td><td>6533</td></tr>\n",
       "\t<tr><td>1682</td><td>6909</td><td>6744</td></tr>\n",
       "\t<tr><td>1683</td><td>7577</td><td>7158</td></tr>\n",
       "\t<tr><td>1684</td><td>7575</td><td>7127</td></tr>\n",
       "\t<tr><td>1685</td><td>7484</td><td>7246</td></tr>\n",
       "\t<tr><td>1686</td><td>7575</td><td>7119</td></tr>\n",
       "\t<tr><td>1687</td><td>7737</td><td>7214</td></tr>\n",
       "\t<tr><td>1688</td><td>7487</td><td>7101</td></tr>\n",
       "\t<tr><td>1689</td><td>7604</td><td>7167</td></tr>\n",
       "\t<tr><td>1690</td><td>7909</td><td>7302</td></tr>\n",
       "\t<tr><td>1691</td><td>7662</td><td>7392</td></tr>\n",
       "\t<tr><td>1692</td><td>7602</td><td>7316</td></tr>\n",
       "\t<tr><td>1693</td><td>7676</td><td>7483</td></tr>\n",
       "\t<tr><td>1694</td><td>6985</td><td>6647</td></tr>\n",
       "\t<tr><td>1695</td><td>7263</td><td>6713</td></tr>\n",
       "\t<tr><td>1696</td><td>7632</td><td>7229</td></tr>\n",
       "\t<tr><td>1697</td><td>8062</td><td>7767</td></tr>\n",
       "\t<tr><td>1698</td><td>8426</td><td>7626</td></tr>\n",
       "\t<tr><td>1699</td><td>7911</td><td>7452</td></tr>\n",
       "\t<tr><td>1700</td><td>7578</td><td>7061</td></tr>\n",
       "\t<tr><td>1701</td><td>8102</td><td>7514</td></tr>\n",
       "\t<tr><td>1702</td><td>8031</td><td>7656</td></tr>\n",
       "\t<tr><td>1703</td><td>7765</td><td>7683</td></tr>\n",
       "\t<tr><td>1704</td><td>6113</td><td>5738</td></tr>\n",
       "\t<tr><td>1705</td><td>8366</td><td>7779</td></tr>\n",
       "\t<tr><td>1706</td><td>7952</td><td>7417</td></tr>\n",
       "\t<tr><td>1707</td><td>8379</td><td>7687</td></tr>\n",
       "\t<tr><td>1708</td><td>8239</td><td>7623</td></tr>\n",
       "\t<tr><td>1709</td><td>7840</td><td>7380</td></tr>\n",
       "\t<tr><td>1710</td><td>7640</td><td>7288</td></tr>\n",
       "</tbody>\n",
       "</table>\n"
      ],
      "text/latex": [
       "A data.frame: 82 × 3\n",
       "\\begin{tabular}{lll}\n",
       " year & boys & girls\\\\\n",
       " <int> & <int> & <int>\\\\\n",
       "\\hline\n",
       "\t 1629 & 5218 & 4683\\\\\n",
       "\t 1630 & 4858 & 4457\\\\\n",
       "\t 1631 & 4422 & 4102\\\\\n",
       "\t 1632 & 4994 & 4590\\\\\n",
       "\t 1633 & 5158 & 4839\\\\\n",
       "\t 1634 & 5035 & 4820\\\\\n",
       "\t 1635 & 5106 & 4928\\\\\n",
       "\t 1636 & 4917 & 4605\\\\\n",
       "\t 1637 & 4703 & 4457\\\\\n",
       "\t 1638 & 5359 & 4952\\\\\n",
       "\t 1639 & 5366 & 4784\\\\\n",
       "\t 1640 & 5518 & 5332\\\\\n",
       "\t 1641 & 5470 & 5200\\\\\n",
       "\t 1642 & 5460 & 4910\\\\\n",
       "\t 1643 & 4793 & 4617\\\\\n",
       "\t 1644 & 4107 & 3997\\\\\n",
       "\t 1645 & 4047 & 3919\\\\\n",
       "\t 1646 & 3768 & 3395\\\\\n",
       "\t 1647 & 3796 & 3536\\\\\n",
       "\t 1648 & 3363 & 3181\\\\\n",
       "\t 1649 & 3079 & 2746\\\\\n",
       "\t 1650 & 2890 & 2722\\\\\n",
       "\t 1651 & 3231 & 2840\\\\\n",
       "\t 1652 & 3220 & 2908\\\\\n",
       "\t 1653 & 3196 & 2959\\\\\n",
       "\t 1654 & 3441 & 3179\\\\\n",
       "\t 1655 & 3655 & 3349\\\\\n",
       "\t 1656 & 3668 & 3382\\\\\n",
       "\t 1657 & 3396 & 3289\\\\\n",
       "\t 1658 & 3157 & 3013\\\\\n",
       "\t ⋮ & ⋮ & ⋮\\\\\n",
       "\t 1681 & 6822 & 6533\\\\\n",
       "\t 1682 & 6909 & 6744\\\\\n",
       "\t 1683 & 7577 & 7158\\\\\n",
       "\t 1684 & 7575 & 7127\\\\\n",
       "\t 1685 & 7484 & 7246\\\\\n",
       "\t 1686 & 7575 & 7119\\\\\n",
       "\t 1687 & 7737 & 7214\\\\\n",
       "\t 1688 & 7487 & 7101\\\\\n",
       "\t 1689 & 7604 & 7167\\\\\n",
       "\t 1690 & 7909 & 7302\\\\\n",
       "\t 1691 & 7662 & 7392\\\\\n",
       "\t 1692 & 7602 & 7316\\\\\n",
       "\t 1693 & 7676 & 7483\\\\\n",
       "\t 1694 & 6985 & 6647\\\\\n",
       "\t 1695 & 7263 & 6713\\\\\n",
       "\t 1696 & 7632 & 7229\\\\\n",
       "\t 1697 & 8062 & 7767\\\\\n",
       "\t 1698 & 8426 & 7626\\\\\n",
       "\t 1699 & 7911 & 7452\\\\\n",
       "\t 1700 & 7578 & 7061\\\\\n",
       "\t 1701 & 8102 & 7514\\\\\n",
       "\t 1702 & 8031 & 7656\\\\\n",
       "\t 1703 & 7765 & 7683\\\\\n",
       "\t 1704 & 6113 & 5738\\\\\n",
       "\t 1705 & 8366 & 7779\\\\\n",
       "\t 1706 & 7952 & 7417\\\\\n",
       "\t 1707 & 8379 & 7687\\\\\n",
       "\t 1708 & 8239 & 7623\\\\\n",
       "\t 1709 & 7840 & 7380\\\\\n",
       "\t 1710 & 7640 & 7288\\\\\n",
       "\\end{tabular}\n"
      ],
      "text/markdown": [
       "\n",
       "A data.frame: 82 × 3\n",
       "\n",
       "| year &lt;int&gt; | boys &lt;int&gt; | girls &lt;int&gt; |\n",
       "|---|---|---|\n",
       "| 1629 | 5218 | 4683 |\n",
       "| 1630 | 4858 | 4457 |\n",
       "| 1631 | 4422 | 4102 |\n",
       "| 1632 | 4994 | 4590 |\n",
       "| 1633 | 5158 | 4839 |\n",
       "| 1634 | 5035 | 4820 |\n",
       "| 1635 | 5106 | 4928 |\n",
       "| 1636 | 4917 | 4605 |\n",
       "| 1637 | 4703 | 4457 |\n",
       "| 1638 | 5359 | 4952 |\n",
       "| 1639 | 5366 | 4784 |\n",
       "| 1640 | 5518 | 5332 |\n",
       "| 1641 | 5470 | 5200 |\n",
       "| 1642 | 5460 | 4910 |\n",
       "| 1643 | 4793 | 4617 |\n",
       "| 1644 | 4107 | 3997 |\n",
       "| 1645 | 4047 | 3919 |\n",
       "| 1646 | 3768 | 3395 |\n",
       "| 1647 | 3796 | 3536 |\n",
       "| 1648 | 3363 | 3181 |\n",
       "| 1649 | 3079 | 2746 |\n",
       "| 1650 | 2890 | 2722 |\n",
       "| 1651 | 3231 | 2840 |\n",
       "| 1652 | 3220 | 2908 |\n",
       "| 1653 | 3196 | 2959 |\n",
       "| 1654 | 3441 | 3179 |\n",
       "| 1655 | 3655 | 3349 |\n",
       "| 1656 | 3668 | 3382 |\n",
       "| 1657 | 3396 | 3289 |\n",
       "| 1658 | 3157 | 3013 |\n",
       "| ⋮ | ⋮ | ⋮ |\n",
       "| 1681 | 6822 | 6533 |\n",
       "| 1682 | 6909 | 6744 |\n",
       "| 1683 | 7577 | 7158 |\n",
       "| 1684 | 7575 | 7127 |\n",
       "| 1685 | 7484 | 7246 |\n",
       "| 1686 | 7575 | 7119 |\n",
       "| 1687 | 7737 | 7214 |\n",
       "| 1688 | 7487 | 7101 |\n",
       "| 1689 | 7604 | 7167 |\n",
       "| 1690 | 7909 | 7302 |\n",
       "| 1691 | 7662 | 7392 |\n",
       "| 1692 | 7602 | 7316 |\n",
       "| 1693 | 7676 | 7483 |\n",
       "| 1694 | 6985 | 6647 |\n",
       "| 1695 | 7263 | 6713 |\n",
       "| 1696 | 7632 | 7229 |\n",
       "| 1697 | 8062 | 7767 |\n",
       "| 1698 | 8426 | 7626 |\n",
       "| 1699 | 7911 | 7452 |\n",
       "| 1700 | 7578 | 7061 |\n",
       "| 1701 | 8102 | 7514 |\n",
       "| 1702 | 8031 | 7656 |\n",
       "| 1703 | 7765 | 7683 |\n",
       "| 1704 | 6113 | 5738 |\n",
       "| 1705 | 8366 | 7779 |\n",
       "| 1706 | 7952 | 7417 |\n",
       "| 1707 | 8379 | 7687 |\n",
       "| 1708 | 8239 | 7623 |\n",
       "| 1709 | 7840 | 7380 |\n",
       "| 1710 | 7640 | 7288 |\n",
       "\n"
      ],
      "text/plain": [
       "   year boys girls\n",
       "1  1629 5218 4683 \n",
       "2  1630 4858 4457 \n",
       "3  1631 4422 4102 \n",
       "4  1632 4994 4590 \n",
       "5  1633 5158 4839 \n",
       "6  1634 5035 4820 \n",
       "7  1635 5106 4928 \n",
       "8  1636 4917 4605 \n",
       "9  1637 4703 4457 \n",
       "10 1638 5359 4952 \n",
       "11 1639 5366 4784 \n",
       "12 1640 5518 5332 \n",
       "13 1641 5470 5200 \n",
       "14 1642 5460 4910 \n",
       "15 1643 4793 4617 \n",
       "16 1644 4107 3997 \n",
       "17 1645 4047 3919 \n",
       "18 1646 3768 3395 \n",
       "19 1647 3796 3536 \n",
       "20 1648 3363 3181 \n",
       "21 1649 3079 2746 \n",
       "22 1650 2890 2722 \n",
       "23 1651 3231 2840 \n",
       "24 1652 3220 2908 \n",
       "25 1653 3196 2959 \n",
       "26 1654 3441 3179 \n",
       "27 1655 3655 3349 \n",
       "28 1656 3668 3382 \n",
       "29 1657 3396 3289 \n",
       "30 1658 3157 3013 \n",
       "⋮  ⋮    ⋮    ⋮    \n",
       "53 1681 6822 6533 \n",
       "54 1682 6909 6744 \n",
       "55 1683 7577 7158 \n",
       "56 1684 7575 7127 \n",
       "57 1685 7484 7246 \n",
       "58 1686 7575 7119 \n",
       "59 1687 7737 7214 \n",
       "60 1688 7487 7101 \n",
       "61 1689 7604 7167 \n",
       "62 1690 7909 7302 \n",
       "63 1691 7662 7392 \n",
       "64 1692 7602 7316 \n",
       "65 1693 7676 7483 \n",
       "66 1694 6985 6647 \n",
       "67 1695 7263 6713 \n",
       "68 1696 7632 7229 \n",
       "69 1697 8062 7767 \n",
       "70 1698 8426 7626 \n",
       "71 1699 7911 7452 \n",
       "72 1700 7578 7061 \n",
       "73 1701 8102 7514 \n",
       "74 1702 8031 7656 \n",
       "75 1703 7765 7683 \n",
       "76 1704 6113 5738 \n",
       "77 1705 8366 7779 \n",
       "78 1706 7952 7417 \n",
       "79 1707 8379 7687 \n",
       "80 1708 8239 7623 \n",
       "81 1709 7840 7380 \n",
       "82 1710 7640 7288 "
      ]
     },
     "metadata": {},
     "output_type": "display_data"
    }
   ],
   "source": [
    "arbuthnot"
   ]
  },
  {
   "cell_type": "markdown",
   "metadata": {
    "editable": false
   },
   "source": [
    "## Question 3: Displaying information about a data set"
   ]
  },
  {
   "cell_type": "markdown",
   "metadata": {
    "editable": false
   },
   "source": [
    "There are several simple commands that can be used to display the data set or things about the data set.\n",
    "* a. Use the `names(` &lt;dataName&gt; `)` to display the names of the variables in the data set.\n",
    "* b. Use the `dim(` &lt;dataName&gt; `)` to display the dimensions of each data set, that is how many rows and columns are in each data set.\n",
    "* c. Use the `head(` &lt;dataName&gt; `)` to display the first six lines of each data set.\n",
    "* d. Use the `tail(` &lt;dataName&gt; `)` to display the last six lines of each data set."
   ]
  },
  {
   "cell_type": "markdown",
   "metadata": {
    "editable": false
   },
   "source": [
    "## Answer 3a. ##"
   ]
  },
  {
   "cell_type": "code",
   "execution_count": null,
   "metadata": {},
   "outputs": [],
   "source": [
    "names(arbuthnot)"
   ]
  },
  {
   "cell_type": "markdown",
   "metadata": {
    "editable": false
   },
   "source": [
    "## Answer 3b. ##"
   ]
  },
  {
   "cell_type": "code",
   "execution_count": null,
   "metadata": {},
   "outputs": [],
   "source": [
    "dim(arbuthnot)"
   ]
  },
  {
   "cell_type": "markdown",
   "metadata": {
    "editable": false
   },
   "source": [
    "## Answer 3c."
   ]
  },
  {
   "cell_type": "code",
   "execution_count": 4,
   "metadata": {},
   "outputs": [
    {
     "data": {
      "text/html": [
       "<table>\n",
       "<caption>A data.frame: 6 × 3</caption>\n",
       "<thead>\n",
       "\t<tr><th></th><th scope=col>year</th><th scope=col>boys</th><th scope=col>girls</th></tr>\n",
       "\t<tr><th></th><th scope=col>&lt;int&gt;</th><th scope=col>&lt;int&gt;</th><th scope=col>&lt;int&gt;</th></tr>\n",
       "</thead>\n",
       "<tbody>\n",
       "\t<tr><th scope=row>1</th><td>1629</td><td>5218</td><td>4683</td></tr>\n",
       "\t<tr><th scope=row>2</th><td>1630</td><td>4858</td><td>4457</td></tr>\n",
       "\t<tr><th scope=row>3</th><td>1631</td><td>4422</td><td>4102</td></tr>\n",
       "\t<tr><th scope=row>4</th><td>1632</td><td>4994</td><td>4590</td></tr>\n",
       "\t<tr><th scope=row>5</th><td>1633</td><td>5158</td><td>4839</td></tr>\n",
       "\t<tr><th scope=row>6</th><td>1634</td><td>5035</td><td>4820</td></tr>\n",
       "</tbody>\n",
       "</table>\n"
      ],
      "text/latex": [
       "A data.frame: 6 × 3\n",
       "\\begin{tabular}{r|lll}\n",
       "  & year & boys & girls\\\\\n",
       "  & <int> & <int> & <int>\\\\\n",
       "\\hline\n",
       "\t1 & 1629 & 5218 & 4683\\\\\n",
       "\t2 & 1630 & 4858 & 4457\\\\\n",
       "\t3 & 1631 & 4422 & 4102\\\\\n",
       "\t4 & 1632 & 4994 & 4590\\\\\n",
       "\t5 & 1633 & 5158 & 4839\\\\\n",
       "\t6 & 1634 & 5035 & 4820\\\\\n",
       "\\end{tabular}\n"
      ],
      "text/markdown": [
       "\n",
       "A data.frame: 6 × 3\n",
       "\n",
       "| <!--/--> | year &lt;int&gt; | boys &lt;int&gt; | girls &lt;int&gt; |\n",
       "|---|---|---|---|\n",
       "| 1 | 1629 | 5218 | 4683 |\n",
       "| 2 | 1630 | 4858 | 4457 |\n",
       "| 3 | 1631 | 4422 | 4102 |\n",
       "| 4 | 1632 | 4994 | 4590 |\n",
       "| 5 | 1633 | 5158 | 4839 |\n",
       "| 6 | 1634 | 5035 | 4820 |\n",
       "\n"
      ],
      "text/plain": [
       "  year boys girls\n",
       "1 1629 5218 4683 \n",
       "2 1630 4858 4457 \n",
       "3 1631 4422 4102 \n",
       "4 1632 4994 4590 \n",
       "5 1633 5158 4839 \n",
       "6 1634 5035 4820 "
      ]
     },
     "metadata": {},
     "output_type": "display_data"
    }
   ],
   "source": [
    "head(arbuthnot)"
   ]
  },
  {
   "cell_type": "markdown",
   "metadata": {
    "editable": false
   },
   "source": [
    "## Answer 3d."
   ]
  },
  {
   "cell_type": "code",
   "execution_count": 5,
   "metadata": {},
   "outputs": [
    {
     "data": {
      "text/html": [
       "<table>\n",
       "<caption>A data.frame: 6 × 3</caption>\n",
       "<thead>\n",
       "\t<tr><th></th><th scope=col>year</th><th scope=col>boys</th><th scope=col>girls</th></tr>\n",
       "\t<tr><th></th><th scope=col>&lt;int&gt;</th><th scope=col>&lt;int&gt;</th><th scope=col>&lt;int&gt;</th></tr>\n",
       "</thead>\n",
       "<tbody>\n",
       "\t<tr><th scope=row>77</th><td>1705</td><td>8366</td><td>7779</td></tr>\n",
       "\t<tr><th scope=row>78</th><td>1706</td><td>7952</td><td>7417</td></tr>\n",
       "\t<tr><th scope=row>79</th><td>1707</td><td>8379</td><td>7687</td></tr>\n",
       "\t<tr><th scope=row>80</th><td>1708</td><td>8239</td><td>7623</td></tr>\n",
       "\t<tr><th scope=row>81</th><td>1709</td><td>7840</td><td>7380</td></tr>\n",
       "\t<tr><th scope=row>82</th><td>1710</td><td>7640</td><td>7288</td></tr>\n",
       "</tbody>\n",
       "</table>\n"
      ],
      "text/latex": [
       "A data.frame: 6 × 3\n",
       "\\begin{tabular}{r|lll}\n",
       "  & year & boys & girls\\\\\n",
       "  & <int> & <int> & <int>\\\\\n",
       "\\hline\n",
       "\t77 & 1705 & 8366 & 7779\\\\\n",
       "\t78 & 1706 & 7952 & 7417\\\\\n",
       "\t79 & 1707 & 8379 & 7687\\\\\n",
       "\t80 & 1708 & 8239 & 7623\\\\\n",
       "\t81 & 1709 & 7840 & 7380\\\\\n",
       "\t82 & 1710 & 7640 & 7288\\\\\n",
       "\\end{tabular}\n"
      ],
      "text/markdown": [
       "\n",
       "A data.frame: 6 × 3\n",
       "\n",
       "| <!--/--> | year &lt;int&gt; | boys &lt;int&gt; | girls &lt;int&gt; |\n",
       "|---|---|---|---|\n",
       "| 77 | 1705 | 8366 | 7779 |\n",
       "| 78 | 1706 | 7952 | 7417 |\n",
       "| 79 | 1707 | 8379 | 7687 |\n",
       "| 80 | 1708 | 8239 | 7623 |\n",
       "| 81 | 1709 | 7840 | 7380 |\n",
       "| 82 | 1710 | 7640 | 7288 |\n",
       "\n"
      ],
      "text/plain": [
       "   year boys girls\n",
       "77 1705 8366 7779 \n",
       "78 1706 7952 7417 \n",
       "79 1707 8379 7687 \n",
       "80 1708 8239 7623 \n",
       "81 1709 7840 7380 \n",
       "82 1710 7640 7288 "
      ]
     },
     "metadata": {},
     "output_type": "display_data"
    }
   ],
   "source": [
    "tail(arbuthnot)"
   ]
  },
  {
   "cell_type": "markdown",
   "metadata": {
    "editable": false
   },
   "source": [
    "## Question 4. Displaying information about a variable ##\n"
   ]
  },
  {
   "cell_type": "markdown",
   "metadata": {
    "editable": false
   },
   "source": [
    "To display information about a variable from a data set you need to indicate where the variable can be found. \n",
    "\n",
    "The format is &lt;dataName&gt;\\$&lt;varName&gt;.\n",
    "\n",
    "* a. Use the commands `min(`&lt;dataName&gt;\\$&lt;varName&gt;`)` to determine the minimum of each variable.\n",
    "\n",
    "* b. Use the command `max(`&lt;dataName&gt;\\$&lt;varName&gt;`)` to determine the minimum of each variable."
   ]
  },
  {
   "cell_type": "markdown",
   "metadata": {
    "editable": false
   },
   "source": [
    "## Answer 4a."
   ]
  },
  {
   "cell_type": "code",
   "execution_count": 6,
   "metadata": {},
   "outputs": [
    {
     "data": {
      "text/html": [
       "2890"
      ],
      "text/latex": [
       "2890"
      ],
      "text/markdown": [
       "2890"
      ],
      "text/plain": [
       "[1] 2890"
      ]
     },
     "metadata": {},
     "output_type": "display_data"
    }
   ],
   "source": [
    "min(arbuthnot$boys)"
   ]
  },
  {
   "cell_type": "markdown",
   "metadata": {
    "editable": false
   },
   "source": [
    "## Answer 4b."
   ]
  },
  {
   "cell_type": "code",
   "execution_count": null,
   "metadata": {},
   "outputs": [],
   "source": [
    "Type code in this cell."
   ]
  },
  {
   "cell_type": "markdown",
   "metadata": {
    "editable": false
   },
   "source": [
    "## Question 5. Making a new variable\n",
    "    \n",
    "    "
   ]
  },
  {
   "cell_type": "markdown",
   "metadata": {},
   "source": [
    "We would like to consider the proportion of male births for both data sets.<br>To assign the results of a calculation to a new variable we use an assignment operator which is typed &lt;-.<br>To the left of the arrow is the name of the new variable and to the right is the calculation.\n",
    "* a. The formula for determining the proportion of male births is $$\\dfrac{numberMaleBirths}{numberMaleBirths + numberFemaleBirths}$$ <br>Use the correct variable names and the assignment operator to create a new variable `prop_male`.\n",
    "* b. The new variables you have created are not part of the data sets so you need not reference the data set name to use them. Use the `summary(`&lt;variable&gt;`)` to summarize this  new variable.\n",
    "* c. Draw what conclusions you can from each summary then by comparing the two summaries."
   ]
  },
  {
   "cell_type": "markdown",
   "metadata": {
    "editable": false
   },
   "source": [
    "## Answer 5a."
   ]
  },
  {
   "cell_type": "code",
   "execution_count": 7,
   "metadata": {},
   "outputs": [],
   "source": [
    "prop_male<-(arbuthnot$boys/(arbuthnot$boys+arbuthnot$girls))"
   ]
  },
  {
   "cell_type": "markdown",
   "metadata": {
    "editable": false
   },
   "source": [
    "## Answer 5b."
   ]
  },
  {
   "cell_type": "code",
   "execution_count": 8,
   "metadata": {},
   "outputs": [
    {
     "data": {
      "text/plain": [
       "   Min. 1st Qu.  Median    Mean 3rd Qu.    Max. \n",
       " 0.5027  0.5118  0.5157  0.5170  0.5210  0.5362 "
      ]
     },
     "metadata": {},
     "output_type": "display_data"
    }
   ],
   "source": [
    "summary(prop_male)"
   ]
  },
  {
   "cell_type": "markdown",
   "metadata": {},
   "source": [
    "## Question 6. Introduction to graphing\n",
    "In future tutorials we will explore other types of graphs. For now let's look at how to create a scatterplot.<br>\n",
    "* a. Use the `plot(x=`&lt;variable&gt;`,y=`&lt;variable`)` to make a scatterplot with the year on the x-axis and the total births on the y-axis for the `arbuthnot` data set.\n",
    "* b. Estimate the year that the maximum proportion of male births occured."
   ]
  },
  {
   "cell_type": "markdown",
   "metadata": {
    "editable": false
   },
   "source": [
    "## Answer 6a."
   ]
  },
  {
   "cell_type": "code",
   "execution_count": 9,
   "metadata": {},
   "outputs": [
    {
     "data": {
      "image/png": "[encoded data removed]",
      "text/plain": [
       "plot without title"
      ]
     },
     "metadata": {
      "image/png": {
       "height": 420,
       "width": 420
      },
      "text/plain": {
       "height": 420,
       "width": 420
      }
     },
     "output_type": "display_data"
    }
   ],
   "source": [
    "plot(x=arbuthnot$year,arbuthnot$boys+arbuthnot$girls)"
   ]
  },
  {
   "cell_type": "markdown",
   "metadata": {
    "editable": false
   },
   "source": [
    "## Answer 6b."
   ]
  },
  {
   "cell_type": "markdown",
   "metadata": {},
   "source": [
    "Type your answer in this cell, as a sentence."
   ]
  },
  {
   "cell_type": "markdown",
   "metadata": {
    "editable": false
   },
   "source": [
    "---\n",
    "---\n",
    "#### This tutorial is released under a Creative Commons Attribution-ShareAlike 3.0 Unported.\n",
    "\n",
    "This tutorial has been adapted from a lab that  was adapted for OpenIntro by Andrew Bray and Mine Çetinkaya-Rundel from a lab written by Mark Hansen of UCLA Statistics.\n",
    "\n",
    "---\n",
    "---"
   ]
  }
 ],
 "metadata": {
  "kernelspec": {
   "display_name": "R",
   "language": "R",
   "name": "ir"
  },
  "language_info": {
   "codemirror_mode": "r",
   "file_extension": ".r",
   "mimetype": "text/x-r-source",
   "name": "R",
   "pygments_lexer": "r",
   "version": "3.6.2"
  }
 },
 "nbformat": 4,
 "nbformat_minor": 2
}
