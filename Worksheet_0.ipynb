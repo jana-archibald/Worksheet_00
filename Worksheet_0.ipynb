{
 "cells": [
  {
   "cell_type": "markdown",
   "metadata": {
    "editable": false
   },
   "source": [
    "# Tutorial 0: Demo Jupyter Notebook #\n"
   ]
  },
  {
   "cell_type": "markdown",
   "metadata": {
    "editable": false
   },
   "source": [
    "## Objectives: ##\n",
    "To learn the basics of using jupyter notebooks via videos using this demo jupyter notebook."
   ]
  },
  {
   "cell_type": "markdown",
   "metadata": {
    "editable": false
   },
   "source": [
    "## Instructions: ##\n",
    "Watch the videos."
   ]
  },
  {
   "cell_type": "markdown",
   "metadata": {
    "editable": false
   },
   "source": [
    "## Formulae: ##\n",
    "No formulae are needed for this exercise.\n",
    "\n",
    "For demo purposes here is what a couple of meaningless formulae:\n",
    "$$\\tau = \\sqrt{4^2 -7}$$\n",
    "$$\\xi = 4 \\pm \\sqrt{(10 + 5*8 - 6)/7}$$"
   ]
  },
  {
   "cell_type": "markdown",
   "metadata": {
    "editable": false
   },
   "source": [
    "## Tools: ##"
   ]
  },
  {
   "cell_type": "code",
   "execution_count": null,
   "metadata": {},
   "outputs": [],
   "source": [
    "source(\"http://www.openintro.org/stat/data/arbuthnot.R\")"
   ]
  },
  {
   "cell_type": "markdown",
   "metadata": {},
   "source": [
    "## Data Information: ##\n",
    "\n",
    "### Data Set: ###\n",
    "\n",
    "During every one of the 81 years, there were more male christenings (births) than female christenings. \n",
    "\n",
    "#### Name: #### \n",
    "* `arbuthnot` - \n",
    "#### Variables: ####\n",
    "* `year` - The year, ranging from 1629 to 1710.\n",
    "* `boys` - Number of male christenings (births).\n",
    "* `girls` - Number of female christenings (births)."
   ]
  },
  {
   "cell_type": "markdown",
   "metadata": {
    "editable": false
   },
   "source": [
    "## Question 1. Markdown cells vs. Code cells ##"
   ]
  },
  {
   "cell_type": "markdown",
   "metadata": {
    "editable": false
   },
   "source": [
    "### a. Markdown Cells ###\n",
    "* A markdown cell is where you write about your answers.  \n",
    "* You can edit it by double clicking, or pressing enter.\n",
    "* You can make it look nice again by pressing shift + enter.\n",
    "* You can edit the text in this box by double clicking and typing.\n",
    "* NOTE: There are a variety of methods to make your text look nice, but for our purposes plain text is fine. **\n",
    "\n",
    "Try typing in the Markdown cell below the title Answer 1a."
   ]
  },
  {
   "cell_type": "markdown",
   "metadata": {
    "editable": false
   },
   "source": [
    "### Answer 1a. ##"
   ]
  },
  {
   "cell_type": "markdown",
   "metadata": {},
   "source": [
    "Type something here"
   ]
  },
  {
   "cell_type": "markdown",
   "metadata": {
    "editable": false
   },
   "source": [
    "\n",
    "### b. Code Cells  ###\n",
    "\n",
    "Below are three code cells.  \n",
    "\n",
    "Code cells are where we will use R to compute statistics or produce plots.  Or as I have done here do some simple arithmetic.\n",
    "\n",
    "You can double click on a code cell to edit it.\n",
    "\n",
    "Use shift + enter will run the code.\n",
    "\n",
    "You can add additional blocks below the current block by clicking on the `+` in the toolbar at the top of this window. Alternately, you can use the Insert menu to add blocks.\n",
    "\n",
    "* Run the code in the first two cells.\n",
    "* In the third code block use the `sqrt(` &lt;arithmetic statement&gt; `)` to find the value for $\\tau$ as shown in the Formulae section above.\n",
    "* Create a fourth code block then use the `sqrt(` &lt;arithmetic statement&gt; `)` to find the value for $\\xi$ as shown in the Formulae section above."
   ]
  },
  {
   "cell_type": "markdown",
   "metadata": {
    "editable": false
   },
   "source": [
    "### Answer 1b."
   ]
  },
  {
   "cell_type": "code",
   "execution_count": null,
   "metadata": {},
   "outputs": [],
   "source": [
    "3+6/2"
   ]
  },
  {
   "cell_type": "code",
   "execution_count": null,
   "metadata": {},
   "outputs": [],
   "source": [
    "(6-2)^3"
   ]
  },
  {
   "cell_type": "markdown",
   "metadata": {},
   "source": [
    "##  Loading data ##"
   ]
  },
  {
   "cell_type": "markdown",
   "metadata": {},
   "source": [
    "Under the tools section above are the commands to load data.\n",
    "\n",
    "* Load the data by running the code in the code block below the <b>Tools</b> section.\n",
    "* When you run the code block the data will be loaded. This is a background process, nothing will appear on the notebook.<br>You can think of it as the code being recorded on the back of the page.\n",
    "\n",
    "Run the code under the <b>Tools</b> section.\n",
    "\n"
   ]
  },
  {
   "cell_type": "markdown",
   "metadata": {},
   "source": [
    "## Question 2: Displaying information about a data set"
   ]
  },
  {
   "cell_type": "markdown",
   "metadata": {
    "editable": false
   },
   "source": [
    "There are several simple commands that can be used to display the data set or things about the data set.\n",
    "* a. Use the `names(` &lt;dataName&gt; `)` to display the names of the variables in the data set.\n",
    "* b. Use the `dim(` &lt;dataName&gt; `)` to display the dimensions of each data set, that is how many rows and columns are in each data set.\n",
    "* c. Use the `head(` &lt;dataName&gt; `)` to display the first six lines of each data set.\n",
    "* d. Use the `tail(` &lt;dataName&gt; `)` to display the last six lines of each data set."
   ]
  },
  {
   "cell_type": "markdown",
   "metadata": {
    "editable": false
   },
   "source": [
    "## Answer 2a. ##"
   ]
  },
  {
   "cell_type": "code",
   "execution_count": null,
   "metadata": {},
   "outputs": [],
   "source": [
    "names(arbuthnot)"
   ]
  },
  {
   "cell_type": "markdown",
   "metadata": {
    "editable": false
   },
   "source": [
    "## Answer 2b. ##"
   ]
  },
  {
   "cell_type": "code",
   "execution_count": null,
   "metadata": {},
   "outputs": [],
   "source": [
    "dim(arbuthnot)"
   ]
  },
  {
   "cell_type": "markdown",
   "metadata": {
    "editable": false
   },
   "source": [
    "## Answer 2c."
   ]
  },
  {
   "cell_type": "code",
   "execution_count": null,
   "metadata": {},
   "outputs": [],
   "source": [
    "head(arbuthnot)"
   ]
  },
  {
   "cell_type": "markdown",
   "metadata": {
    "editable": false
   },
   "source": [
    "## Answer 2d."
   ]
  },
  {
   "cell_type": "code",
   "execution_count": null,
   "metadata": {},
   "outputs": [],
   "source": [
    "tail(arbuthnot)"
   ]
  },
  {
   "cell_type": "markdown",
   "metadata": {},
   "source": [
    "## Question 3. Displaying information about a variable ##\n"
   ]
  },
  {
   "cell_type": "markdown",
   "metadata": {},
   "source": [
    "To display information about a variable from a data set you need to indicate where the variable can be found. \n",
    "\n",
    "The format is &lt;dataName&gt;\\$&lt;varName&gt;.\n",
    "\n",
    "* a. Use the commands `min(`&lt;dataName&gt;\\$&lt;varName&gt;`)` to determine the minimum of each variable.\n",
    "\n",
    "* b. Use the command `max(`&lt;dataName&gt;\\$&lt;varName&gt;`)` to determine the minimum of each variable.\n",
    "\n",
    "* c. Use the command `summary(`&lt;dataName&gt;\\$&lt;varName&gt;`)` to find a summary of each variable."
   ]
  },
  {
   "cell_type": "markdown",
   "metadata": {},
   "source": [
    "## Answer 3a."
   ]
  },
  {
   "cell_type": "code",
   "execution_count": null,
   "metadata": {},
   "outputs": [],
   "source": [
    "min(arbuthnot$boys)"
   ]
  },
  {
   "cell_type": "markdown",
   "metadata": {},
   "source": [
    "## Answer 3b."
   ]
  },
  {
   "cell_type": "code",
   "execution_count": null,
   "metadata": {},
   "outputs": [],
   "source": [
    "Type code in this cell."
   ]
  },
  {
   "cell_type": "markdown",
   "metadata": {},
   "source": [
    "## Answer 3c. ##"
   ]
  },
  {
   "cell_type": "code",
   "execution_count": null,
   "metadata": {},
   "outputs": [],
   "source": []
  },
  {
   "cell_type": "markdown",
   "metadata": {},
   "source": [
    "## Question 4. Making a new variable\n",
    "    \n",
    "    "
   ]
  },
  {
   "cell_type": "markdown",
   "metadata": {},
   "source": [
    "We would like to consider the proportion of male births for both data sets.<br>To assign the results of a calculation to a new variable we use an assignment operator which is typed &lt;-.<br>To the left of the arrow is the name of the new variable and to the right is the calculation.\n",
    "* a. The formula for determining the total number of births is $$numberMaleBirths + numberFemaleBirths$$ <br>Use the correct variable names and the assignment operator to create a new variable `total_births`.\n",
    "* b. The new variables you have created are not part of the data sets so you need not reference the data set name to use them. Use the `summary(`&lt;variable&gt;`)` to summarize this  new variable.\n",
    "* c. Draw what conclusions you can from each summary then by comparing the two summaries."
   ]
  },
  {
   "cell_type": "markdown",
   "metadata": {},
   "source": [
    "## Answer 4a."
   ]
  },
  {
   "cell_type": "code",
   "execution_count": null,
   "metadata": {},
   "outputs": [],
   "source": [
    "total_births<-(arbuthnot$boys+arbuthnot$girls)"
   ]
  },
  {
   "cell_type": "markdown",
   "metadata": {},
   "source": [
    "## Answer 4b."
   ]
  },
  {
   "cell_type": "code",
   "execution_count": null,
   "metadata": {},
   "outputs": [],
   "source": [
    "summary(total_births)"
   ]
  },
  {
   "cell_type": "markdown",
   "metadata": {},
   "source": [
    "## Question 5. Introduction to graphing\n",
    "In future tutorials we will explore other types of graphs. For now let's look at how to create a scatterplot.<br>\n",
    "* a. Use the `plot(x=`&lt;variable&gt;`,y=`&lt;variable`)` to make a scatterplot with the year on the x-axis and the total births on the y-axis for the `arbuthnot` data set.\n",
    "* b. Estimate the year that the maximum number of births occured."
   ]
  },
  {
   "cell_type": "markdown",
   "metadata": {},
   "source": [
    "##### Answer 5a."
   ]
  },
  {
   "cell_type": "code",
   "execution_count": null,
   "metadata": {},
   "outputs": [],
   "source": [
    "plot(x=arbuthnot$year,arbuthnot$boys+arbuthnot$girls)"
   ]
  },
  {
   "cell_type": "markdown",
   "metadata": {},
   "source": [
    "##### Answer 5b."
   ]
  },
  {
   "cell_type": "markdown",
   "metadata": {},
   "source": [
    "Type your answer in this cell, as a sentence."
   ]
  },
  {
   "cell_type": "markdown",
   "metadata": {
    "editable": false
   },
   "source": [
    "---\n",
    "---\n",
    "#### This tutorial is released under a Creative Commons Attribution-ShareAlike 3.0 Unported.\n",
    "\n",
    "This tutorial has been adapted from a lab that  was adapted for OpenIntro by Andrew Bray and Mine Çetinkaya-Rundel from a lab written by Mark Hansen of UCLA Statistics.\n",
    "\n",
    "---\n",
    "---"
   ]
  }
 ],
 "metadata": {
  "celltoolbar": "Edit Metadata",
  "kernelspec": {
   "display_name": "R",
   "language": "R",
   "name": "ir"
  },
  "language_info": {
   "codemirror_mode": "r",
   "file_extension": ".r",
   "mimetype": "text/x-r-source",
   "name": "R",
   "pygments_lexer": "r",
   "version": "4.1.2"
  }
 },
 "nbformat": 4,
 "nbformat_minor": 2
}
